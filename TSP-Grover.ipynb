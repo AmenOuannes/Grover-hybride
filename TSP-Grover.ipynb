{
 "cells": [
  {
   "metadata": {},
   "cell_type": "markdown",
   "source": [
    "## 💡 Formulation logique d’une variante du TSP sur 5 États américains\n",
    "\n",
    "On modélise un ensemble de contraintes logiques portant sur 5 États :\n",
    "\n",
    "- `c` = California\n",
    "- `t` = Texas\n",
    "- `f` = Florida\n",
    "- `n` = New York\n",
    "- `i` = Illinois\n",
    "\n",
    "---\n",
    "\n",
    "### 🔢 Ensemble initial de 8 clauses (forme CNF)\n",
    "\n",
    "Voici les contraintes du problème, formulées en logique propositionnelle :\n",
    "\n",
    "1. `¬c ∨ ¬f`    # Si tu vas en Californie, tu ne vas pas en Floride\n",
    "2. `¬n ∨ i`    # Si tu vas à New York, tu dois aussi aller en Illinois\n",
    "3. `¬t ∨ ¬n`    # Si tu vas au Texas, tu ne vas pas à New York\n",
    "4. `f ∨ ¬t`    # Si tu ne vas pas en Floride, tu ne vas pas au Texas\n",
    "5. `¬i ∨ ¬c`    # Si tu vas en Illinois, tu ne peux pas aller en Californie\n",
    "6. `¬f ∨ t`    # Si tu vas en Floride, tu dois aller au Texas\n",
    "7. `¬c ∨ t`    # Si tu vas en Californie, tu dois aller au Texas\n",
    "8. `¬n ∨ ¬f`    # Si tu vas à New York, tu ne vas pas en Floride\n",
    "\n",
    "---\n",
    "\n",
    "### ✅ Version simplifiée à 4 clauses\n",
    "\n",
    "En appliquant des règles de simplification logique (absorption, équivalence, dominance), on obtient la version réduite suivante :\n",
    "\n",
    "1. `¬f ∨ t`    # Si tu vas en Floride, tu dois aller au Texas\n",
    "2. `¬i ∨ ¬c`    # Si tu vas en Illinois, tu ne peux pas aller en Californie\n",
    "3. `¬n ∨ ¬f`    # Si tu vas à New York, tu ne vas pas en Floride\n",
    "4. `¬n ∨ i`    # Si tu vas à New York, tu dois aussi aller en Illinois\n",
    "\n",
    "---\n",
    "\n",
    "Ces 4 clauses suffisent à **exprimer toutes les contraintes** du problème initial. Elles sont **logiquement équivalentes à l’ensemble complet des 8**, mais permettent une analyse plus rapide et plus efficace (par exemple avec l’algorithme de Grover).\n"
   ],
   "id": "f94bd7c3fc37c92c"
  },
  {
   "metadata": {
    "ExecuteTime": {
     "end_time": "2025-05-09T04:11:25.453855Z",
     "start_time": "2025-05-09T04:11:25.448706Z"
    }
   },
   "cell_type": "code",
   "source": [
    "from qiskit import QuantumCircuit, QuantumRegister, ClassicalRegister\n",
    "from qiskit.visualization import plot_histogram\n",
    "from qiskit.circuit.library import XGate, ZGate\n",
    "import sys\n",
    "sys.path.append('./J-3/grover-team-2/Grover_Jupyter-Notebook')\n",
    "from utils import get_disjunction_control_state, get_disjunction_qubits\n",
    "from qiskit_ibm_runtime import QiskitRuntimeService\n",
    "from qiskit import QuantumCircuit, transpile\n",
    "from qiskit_aer import AerSimulator\n",
    "from qiskit.visualization import plot_histogram\n",
    "\n",
    "QiskitRuntimeService.save_account(channel=\"ibm_quantum\", token=\"19619dda4c21bed9d93987a1c7418ee5f18b7f43f18fc33db8eb472575ad75790054b5ec870cf0cc8e538fa6f054eca8b0ce4b5056c791a10b5efc51142c6f01\", overwrite=True)"
   ],
   "id": "767ca6df25db4729",
   "outputs": [],
   "execution_count": 266
  },
  {
   "metadata": {},
   "cell_type": "markdown",
   "source": "## Solution de base",
   "id": "f157c6133d1b6961"
  },
  {
   "metadata": {
    "ExecuteTime": {
     "end_time": "2025-05-09T04:11:25.461775Z",
     "start_time": "2025-05-09T04:11:25.457116Z"
    }
   },
   "cell_type": "code",
   "source": [
    "clauses = []\n",
    "# Si tu vas en Californie, tu ne vas pas en Floride\n",
    "clauses.append({'x1' : False, 'x0' : False})\n",
    "# Si tu vas à New York, tu dois aussi aller en Illinois\n",
    "clauses.append({'x2' : False, 'x4' : True})\n",
    "# Si tu vas au Texas, tu ne vas pas à New York\n",
    "clauses.append({'x3' : False, 'x2' : False})\n",
    "# Si tu ne vas pas en Floride, tu ne vas pas au Texas\n",
    "clauses.append({'x1' : True, 'x3' : False})\n",
    "# Si tu vas en Illinois, tu ne peux pas aller en Californie\n",
    "clauses.append({'x4' : False, 'x0' : False})\n",
    "# Si tu vas en Floride, tu dois aller au Texas\n",
    "clauses.append({'x1' : False, 'x3' : False})\n",
    "# Si tu vas en Californie, tu dois aller au Texas\n",
    "clauses.append({'x0' : False, 'x3' : True})\n",
    "clauses.append({'x4' : False})\n",
    "# Si tu vas à New York, tu ne vas pas en Floride\n",
    "clauses.append({'x2' : False, 'x1' : False})\n",
    "clauses.append({'x1' : False, 'x0' : False, 'x3': True})    # ¬F ∨ ¬C ∨ T\n",
    "clauses.append({'x2' : False, 'x4' : True, 'x1': False})    # ¬N ∨ I ∨ ¬F\n",
    "clauses.append({'x3' : False, 'x2' : False, 'x0': True})    # ¬T ∨ ¬N ∨ C\n",
    "clauses.append({'x1' : True, 'x3' : False, 'x4': False})    # F ∨ ¬T ∨ ¬I\n",
    "clauses.append({'x4' : False, 'x0' : False, 'x1': True})    # ¬I ∨ ¬C ∨ F\n",
    "clauses.append({'x1' : False, 'x3' : False, 'x2': True})    # ¬F ∨ T ∨ N\n",
    "clauses.append({'x0' : False, 'x3' : True, 'x2': True})     # ¬C ∨ T ∨ N\n",
    "clauses.append({'x2' : False, 'x1' : False, 'x0': False})   # ¬N ∨ ¬F ∨ ¬C\n"
   ],
   "id": "41e1b39612330901",
   "outputs": [],
   "execution_count": 267
  },
  {
   "metadata": {
    "ExecuteTime": {
     "end_time": "2025-05-09T04:11:25.485574Z",
     "start_time": "2025-05-09T04:11:25.483216Z"
    }
   },
   "cell_type": "code",
   "source": "nb_variables = 5",
   "id": "bd05ec2f155c3645",
   "outputs": [],
   "execution_count": 268
  },
  {
   "metadata": {
    "ExecuteTime": {
     "end_time": "2025-05-09T04:11:25.511379Z",
     "start_time": "2025-05-09T04:11:25.507803Z"
    }
   },
   "cell_type": "code",
   "source": [
    "# Transformer une disjonction en une porte\n",
    "def logical_disjunction_to_gate(disj_clause):\n",
    "    # Nombre de variables dans la clause\n",
    "    nb_disj_variables = len(disj_clause)\n",
    "\n",
    "    # Nombre de qubits dans la porte de disjonction (nb_variables + 1 qubit ancillaire)\n",
    "    nb_qubits = nb_disj_variables + 1\n",
    "    disj_qc = QuantumCircuit(nb_qubits)\n",
    "    qubits = disj_qc.qubits\n",
    "\n",
    "    # Obtenir le bon état de controle pour la porte multi-controle X\n",
    "    ctrl_state = get_disjunction_control_state(disj_clause)\n",
    "\n",
    "    # Créer une porte multi-controle X avec le bon nombre de qubits\n",
    "    mc_xgate = XGate().control(num_ctrl_qubits=nb_disj_variables, ctrl_state = ctrl_state)\n",
    "    disj_qc.append(mc_xgate, qubits)\n",
    "\n",
    "    # Ajouter une porte X au qubit à la position -1 (dernière), le qubit ancillaire\n",
    "    disj_qc.x(qubits[-1])\n",
    "\n",
    "    # Transformer le circuit de disjonction en une porte avec un nom, mcx\n",
    "    disj_gate = disj_qc.to_gate(label='mcx')\n",
    "    return disj_gate"
   ],
   "id": "627d974635255ff0",
   "outputs": [],
   "execution_count": 269
  },
  {
   "metadata": {
    "ExecuteTime": {
     "end_time": "2025-05-09T04:11:25.535273Z",
     "start_time": "2025-05-09T04:11:25.531395Z"
    }
   },
   "cell_type": "code",
   "source": [
    "def circuit_clauses(clauses, var_qubits, clause_qubits):\n",
    "    clauses_circuit =QuantumCircuit(var_qubits, clause_qubits)\n",
    "\n",
    "    # Ajouter chaque clause de disjonction comme une porte :\n",
    "    for i in range(len(clauses)):\n",
    "        # Convertir la disjonction en porte\n",
    "        gate = logical_disjunction_to_gate(clauses[i])\n",
    "        # Sélectionner les qubits associés à la clause\n",
    "        c_qubits = get_disjunction_qubits(clauses[i], clause_qubits[i], var_qubits)\n",
    "        # Ajouter la porte au circuit de clauses\n",
    "        clauses_circuit.append(gate, c_qubits)\n",
    "\n",
    "    return clauses_circuit"
   ],
   "id": "9f471ae72c593caf",
   "outputs": [],
   "execution_count": 270
  },
  {
   "metadata": {
    "ExecuteTime": {
     "end_time": "2025-05-09T04:11:25.559165Z",
     "start_time": "2025-05-09T04:11:25.555481Z"
    }
   },
   "cell_type": "code",
   "source": [
    "def oracle(clauses_circuit):\n",
    "    # Récupère les registres depuis clauses_circuit\n",
    "    var_qubits = clauses_circuit.qregs[0]\n",
    "    clause_qubits = clauses_circuit.qregs[1]\n",
    "\n",
    "    # Crée un circuit oracle avec les mêmes registres\n",
    "    oracle_circuit = QuantumCircuit(var_qubits, clause_qubits)\n",
    "\n",
    "    # Appliquer le circuit de clauses\n",
    "    oracle_circuit.append(clauses_circuit.to_gate(label='clauses_circuit'), clauses_circuit.qubits)\n",
    "\n",
    "    ancilla = QuantumRegister(1, name=\"anc\")\n",
    "    oracle_circuit.add_register(ancilla)\n",
    "    all_qubits = clause_qubits[:] + [ancilla[0]]\n",
    "    mc_z_gate = ZGate().control(len(clause_qubits))\n",
    "    oracle_circuit.append(mc_z_gate, all_qubits)\n",
    "\n",
    "    # Appliquer l'inverse du circuit de clauses\n",
    "    oracle_circuit.append(clauses_circuit.to_gate(label='clauses_circuit').inverse(), clauses_circuit.qubits)\n",
    "\n",
    "    return oracle_circuit\n"
   ],
   "id": "54b6990c852ddca8",
   "outputs": [],
   "execution_count": 271
  },
  {
   "metadata": {
    "ExecuteTime": {
     "end_time": "2025-05-09T04:11:25.583378Z",
     "start_time": "2025-05-09T04:11:25.580151Z"
    }
   },
   "cell_type": "code",
   "source": [
    " def diffuser():\n",
    "    var_qubits = QuantumRegister(nb_variables, name='x')\n",
    "    clause_qubits = QuantumRegister(len(clauses), name='c')\n",
    "    # Construire le circuit de diffuseur\n",
    "    diffuser_circuit = QuantumCircuit(var_qubits)\n",
    "\n",
    "    # Ajouter des portes H et X pour chaque qubit du diffuseur\n",
    "    ### 4 portes H pour les variables\n",
    "    diffuser_circuit.h([0,1,2,3,4])\n",
    "    ### 4 portes X pour les variables\n",
    "    diffuser_circuit.x([0,1,2,3,4])\n",
    "    # Ajouter une multi-controle Z\n",
    "    mc_z_gate = ZGate().control(nb_variables - 1)\n",
    "    diffuser_circuit.append(mc_z_gate, var_qubits)\n",
    "\n",
    "    # Ajouter des portes X et H pour chaque qubit du diffuseur\n",
    "    ### 4 portes X pour les variables\n",
    "    diffuser_circuit.x([0,1,2,3,4])\n",
    "    ### 4 portes H pour les variables\n",
    "    diffuser_circuit.h([0,1,2,3,4])\n",
    "\n",
    "    # Afficher le circuit\n",
    "    diffuser_circuit.draw(output='mpl')\n",
    "    return diffuser_circuit"
   ],
   "id": "dddc977528d77128",
   "outputs": [],
   "execution_count": 272
  },
  {
   "metadata": {
    "ExecuteTime": {
     "end_time": "2025-05-09T04:11:25.610037Z",
     "start_time": "2025-05-09T04:11:25.605733Z"
    }
   },
   "cell_type": "code",
   "source": [
    "def grover(clauses):\n",
    "    var_qubits = QuantumRegister(nb_variables, name='x')\n",
    "    clause_qubits = QuantumRegister(len(clauses), name='c')\n",
    "    clauses_circuit = circuit_clauses(clauses, var_qubits, clause_qubits)\n",
    "    oracle_circuit = oracle(clauses_circuit)\n",
    "    diffuser_circuit = diffuser()\n",
    "    # Construire le circuit de Grover\n",
    "    c_bits = ClassicalRegister(nb_variables)\n",
    "    grover_circuit = QuantumCircuit(var_qubits, clause_qubits, c_bits)\n",
    "\n",
    "    # Ajouter des portes H pour chaque variable\n",
    "    grover_circuit.h([0,1,2,3,4])\n",
    "\n",
    "    # Identifier le nombre d'iterations\n",
    "    nb_iterations = 5 # Jouez avec le nombre d'itérations pour en voir l'effet\n",
    "    ancilla = QuantumRegister(1, name=\"anc\")\n",
    "    grover_circuit.add_register(ancilla)\n",
    "    # Ajouter autant d'oracles et de diffuseurs qu'il y a de nombre d'itérations\n",
    "    for it in range(nb_iterations):\n",
    "        grover_circuit.append(oracle_circuit.to_gate(label='oracle'), grover_circuit.qubits)\n",
    "        grover_circuit.barrier(grover_circuit.qubits)\n",
    "        oracle_gate = oracle_circuit.to_gate(label='oracle')\n",
    "        grover_circuit.append(oracle_circuit.to_gate(label='oracle'), var_qubits[:] + clause_qubits[:] + ancilla[:])\n",
    "\n",
    "\n",
    "    # Ajouter les mesures pour l'evaluation du circuit\n",
    "    grover_circuit.measure(var_qubits, c_bits)\n",
    "\n",
    "    # Afficher le circuit\n",
    "    return grover_circuit"
   ],
   "id": "3617cdf61d73e32c",
   "outputs": [],
   "execution_count": 273
  },
  {
   "metadata": {
    "ExecuteTime": {
     "end_time": "2025-05-09T04:11:25.636707Z",
     "start_time": "2025-05-09T04:11:25.633691Z"
    }
   },
   "cell_type": "code",
   "source": [
    "def run_circuit(circ: QuantumCircuit):\n",
    "    simulator = AerSimulator()\n",
    "\n",
    "    # Transpilation pour le simulateur\n",
    "    transpiled_circ = transpile(circ, simulator)\n",
    "\n",
    "    # Exécution\n",
    "    job = simulator.run(transpiled_circ, shots=3000)\n",
    "    result = job.result()\n",
    "\n",
    "    counts = result.get_counts()\n",
    "    return counts"
   ],
   "id": "1c994b2dc6bde40",
   "outputs": [],
   "execution_count": 274
  },
  {
   "metadata": {
    "ExecuteTime": {
     "end_time": "2025-05-09T04:11:31.710744Z",
     "start_time": "2025-05-09T04:11:25.660439Z"
    }
   },
   "cell_type": "code",
   "source": [
    "grover_circuit = grover(clauses)\n",
    "counts = run_circuit(grover_circuit)\n",
    "grover_circuit.decompose(gates_to_decompose=['oracle', 'clauses_circuit', 'diffusor', 'mcx'], reps=3).draw(output='mpl',scale=0.2)\n",
    "plot_histogram(counts)"
   ],
   "id": "bd3c83cd7ea971c3",
   "outputs": [
    {
     "data": {
      "text/plain": [
       "<Figure size 640x480 with 1 Axes>"
      ],
      "image/png": "[encoded data removed]"
     },
     "execution_count": 275,
     "metadata": {},
     "output_type": "execute_result"
    }
   ],
   "execution_count": 275
  },
  {
   "metadata": {
    "ExecuteTime": {
     "end_time": "2025-05-09T04:11:31.742481Z",
     "start_time": "2025-05-09T04:11:31.739066Z"
    }
   },
   "cell_type": "code",
   "source": [
    "improved_clauses = []\n",
    "improved_clauses.append({'x1' : False, 'x0' : False})\n",
    "# Si tu vas à New York, tu dois aussi aller en Illinois\n",
    "improved_clauses.append({'x2' : False, 'x4' : True})\n",
    "# Si tu vas au Texas, tu ne vas pas à New York\n",
    "improved_clauses.append({'x3' : False, 'x2' : False})\n",
    "# Si tu ne vas pas en Floride, tu ne vas pas au Texas\n",
    "improved_clauses.append({'x1' : True, 'x3' : False})\n",
    "# Si tu vas en Illinois, tu ne peux pas aller en Californie\n",
    "improved_clauses.append({'x4' : False, 'x0' : False})\n",
    "# Si tu vas en Floride, tu dois aller au Texas\n",
    "improved_clauses.append({'x1' : False, 'x3' : False})\n",
    "# Si tu vas en Californie, tu dois aller au Texas\n",
    "improved_clauses.append({'x0' : False, 'x3' : True})\n",
    "# Si tu vas à New York, tu ne vas pas en Floride\n",
    "improved_clauses.append({'x2' : False, 'x1' : False})\n",
    "improved_clauses.append({'x4' : False})\n"
   ],
   "id": "c1b88ae35895e470",
   "outputs": [],
   "execution_count": 276
  },
  {
   "metadata": {
    "ExecuteTime": {
     "end_time": "2025-05-09T04:11:32.047652Z",
     "start_time": "2025-05-09T04:11:31.770864Z"
    }
   },
   "cell_type": "code",
   "source": [
    "grover_circuit = grover(improved_clauses)\n",
    "counts = run_circuit(grover_circuit)\n",
    "print(counts)\n",
    "plot_histogram(counts)"
   ],
   "id": "c2a7f3e9c8cdb985",
   "outputs": [
    {
     "name": "stdout",
     "output_type": "stream",
     "text": [
      "{'00010': 88, '11100': 92, '10010': 88, '10111': 104, '00110': 81, '11000': 95, '11010': 88, '10001': 97, '01000': 101, '00001': 89, '10110': 89, '10101': 90, '11111': 83, '10100': 93, '11011': 95, '10011': 104, '01001': 94, '00111': 102, '01110': 99, '01111': 120, '11001': 92, '01010': 108, '11101': 99, '00011': 92, '00100': 92, '00000': 92, '01101': 100, '01011': 94, '01100': 85, '11110': 79, '00101': 91, '10000': 84}\n"
     ]
    },
    {
     "data": {
      "text/plain": [
       "<Figure size 640x480 with 1 Axes>"
      ],
      "image/png": "[encoded data removed]"
     },
     "execution_count": 277,
     "metadata": {},
     "output_type": "execute_result"
    }
   ],
   "execution_count": 277
  }
 ],
 "metadata": {
  "kernelspec": {
   "display_name": "Python 3",
   "language": "python",
   "name": "python3"
  },
  "language_info": {
   "codemirror_mode": {
    "name": "ipython",
    "version": 2
   },
   "file_extension": ".py",
   "mimetype": "text/x-python",
   "name": "python",
   "nbconvert_exporter": "python",
   "pygments_lexer": "ipython2",
   "version": "2.7.6"
  }
 },
 "nbformat": 4,
 "nbformat_minor": 5
}
